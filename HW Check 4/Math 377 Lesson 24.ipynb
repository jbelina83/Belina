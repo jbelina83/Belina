{
 "cells": [
  {
   "cell_type": "code",
   "execution_count": 2,
   "metadata": {},
   "outputs": [],
   "source": [
    "from datascience import *\n",
    "import numpy as np\n",
    "from math import *\n",
    "from scipy import stats\n",
    "import matplotlib.pyplot as plt\n",
    "%matplotlib inline"
   ]
  },
  {
   "cell_type": "markdown",
   "metadata": {},
   "source": [
    "## Lesson 24: Hypothesis Testing Errors & Power"
   ]
  },
  {
   "cell_type": "markdown",
   "metadata": {},
   "source": [
    "Throughout this block, we have been studying hypothesis tests. We have covered the four basic steps of any hypothesis test, and we have practiced various methods for obtaining the distribution of our test statistic under the null hypothesis. \n",
    "\n",
    "After we have reached a conclusion (reject or fail to reject), we must consider possible errors. \n",
    "\n",
    "### Type I error \n",
    "\n",
    "Type I error is the event that we rejected the null hypothesis when the null hypothesis was actually true. Type I error is also known as a false positive. The probability of a Type I error is usually defined by the threshold used for rejection. A common threshold is 0.05. Those of you who have taken statistics before may recognize this value as $\\alpha$. \n",
    "\n",
    "### Type II error\n",
    "\n",
    "Type II error is the event that we failed to reject the null hypothesis when the null hypothesis was actually false. This is otherwise known as a false negative. The probability of a Type II error is harder to find and requires a more in-depth analysis of a hypothesis test. The probability of a Type II error is often given as $\\beta$, and $1-\\beta$ is referred to as **Power**. The power of a test is probability that we will reject the null hypothesis when we are supposed to. \n",
    "\n",
    "Which one of these errors is more serious? It depends on the context of the problem. "
   ]
  },
  {
   "cell_type": "markdown",
   "metadata": {},
   "source": [
    "### Example: Golf Balls\n",
    "\n",
    "Joe has a summer job at a golf course and one of his jobs is to fish out golf balls from the water traps. He has a theory that certain types of golf ball are more likely to end up in the water than others. Let's assume there are four brands of golf ball, let's and assume that all four are used equally at this golf course. He fishes out 100 golf balls and counts each brand. He finds 30 of brand A, 30 of brand B, 20 of brand C and 20 of brand D. Conduct a hypothesis test to determine whether certain types of golf ball are more likely than others to end up in the water."
   ]
  },
  {
   "cell_type": "markdown",
   "metadata": {},
   "source": [
    "Step 1: Hypotheses\n",
    "\n",
    "H0: Each brand of golf ball is equally likely to end up in the water.\n",
    "\n",
    "HA: Some brands of golf balls are more likely to end up in the water than others."
   ]
  },
  {
   "cell_type": "markdown",
   "metadata": {},
   "source": [
    "Step 2: Test statistic\n",
    "\n",
    "There are many correct answers, but let's go with sum of absolute difference between observed and expected counts under $H_0$. To do this, we need to find the expected counts. If each ball was equally likely, how many should we expected to find of each if we select 100 golf balls? "
   ]
  },
  {
   "cell_type": "code",
   "execution_count": 3,
   "metadata": {},
   "outputs": [
    {
     "data": {
      "text/plain": [
       "20"
      ]
     },
     "execution_count": 3,
     "metadata": {},
     "output_type": "execute_result"
    }
   ],
   "source": [
    "ex = make_array(25,25,25,25)\n",
    "obs = make_array(30,30,20,20)\n",
    "ts = sum(abs(obs-ex))\n",
    "ts"
   ]
  },
  {
   "cell_type": "markdown",
   "metadata": {},
   "source": [
    "By taking the sum of the absolute differences of the observed and expected counts under the null hypothesis, we reach a test statistic of 20. If the null hypothesis were true, we would reach a test statistic around 0. We will now determine a p-value to determine of this difference between our computed test statistic and that of the null hypothesis is significant."
   ]
  },
  {
   "cell_type": "markdown",
   "metadata": {},
   "source": [
    "Step 3: $p$-value\n",
    "\n",
    "We need the distribution of the test statistic under $H_0$. "
   ]
  },
  {
   "cell_type": "code",
   "execution_count": 4,
   "metadata": {},
   "outputs": [
    {
     "name": "stdout",
     "output_type": "stream",
     "text": [
      "We reach a p-value of 0.1882 .\n"
     ]
    }
   ],
   "source": [
    "samps = stats.multinomial.rvs(100,[.25,.25,.25,.25],size=10000)\n",
    "samp_abs = abs(samps-make_array(25,25,25.,25))\n",
    "new = np.arange(10000)\n",
    "for i in np.arange(10000):\n",
    "    new[i]=samp_abs[i][0]+samp_abs[i][1]+samp_abs[i][2]+samp_abs[i][3]\n",
    "pvalue = np.count_nonzero(new>=20)/10000\n",
    "pvalue\n",
    "print('We reach a p-value of',pvalue,'.')"
   ]
  },
  {
   "cell_type": "markdown",
   "metadata": {},
   "source": [
    "Step 4: Conclude\n",
    "\n",
    "Given our p-value of .1833, we conclude that the test statistic is not significant at the 5% level and that we fail to reject the null hypothesis. "
   ]
  },
  {
   "cell_type": "markdown",
   "metadata": {},
   "source": [
    "What kind of error could we have made in this case? "
   ]
  },
  {
   "cell_type": "markdown",
   "metadata": {},
   "source": [
    "Because our p-value was so high, we failed to reject the null hypothesis. As such, we could have made a type II error, where we do not reject the null hypothesis when it was actually false."
   ]
  },
  {
   "cell_type": "markdown",
   "metadata": {},
   "source": [
    "#### Power \n",
    "Suppose that, in truth, 30% of the balls found in the water were brand A, 30% were brand B, 20% were brand C and 20% were brand D. In this case, our collected sample reflected this truth perfectly. However, our hypothesis test failed to recognize this deviation from equal proportions. We made a type II error. This is because this test has fairly low power. Use simulation to determine the power of this test. "
   ]
  },
  {
   "cell_type": "markdown",
   "metadata": {},
   "source": [
    "I am looking for the probability that I reject the null hypothesis given the true proportions laid out above. Well, first I need to figure out for what values of my test statistic I would reject $H_0$. "
   ]
  },
  {
   "cell_type": "code",
   "execution_count": 5,
   "metadata": {},
   "outputs": [
    {
     "name": "stdout",
     "output_type": "stream",
     "text": [
      "We would reject the null hypothesis given any test statistic outside of the interval [ 4 , 24 ].\n"
     ]
    }
   ],
   "source": [
    "upper = percentile(95,new)\n",
    "lower = percentile(5,new)\n",
    "print('We would reject the null hypothesis given any test statistic outside of the interval [',lower,',',upper,'].')"
   ]
  },
  {
   "cell_type": "markdown",
   "metadata": {},
   "source": [
    "Next, I need to simulate from the true population and determine how often my test statistic would have met this threshold. "
   ]
  },
  {
   "cell_type": "code",
   "execution_count": 6,
   "metadata": {},
   "outputs": [],
   "source": [
    "samps = stats.multinomial.rvs(100,[.3,.3,.2,.2],size=10000)\n",
    "samp_abs = abs(samps-make_array(25,25,25.,25))\n",
    "new = np.arange(10000)\n",
    "for i in np.arange(10000):\n",
    "    new[i]=samp_abs[i][0]+samp_abs[i][1]+samp_abs[i][2]+samp_abs[i][3]"
   ]
  },
  {
   "cell_type": "code",
   "execution_count": 7,
   "metadata": {},
   "outputs": [
    {
     "data": {
      "image/png": "[encoded data removed]",
      "text/plain": [
       "<Figure size 432x288 with 1 Axes>"
      ]
     },
     "metadata": {},
     "output_type": "display_data"
    }
   ],
   "source": [
    "plt.hist(new)\n",
    "plt.show()"
   ]
  },
  {
   "cell_type": "code",
   "execution_count": 8,
   "metadata": {},
   "outputs": [
    {
     "name": "stdout",
     "output_type": "stream",
     "text": [
      "The power of the test is 0.3504 .\n"
     ]
    }
   ],
   "source": [
    "power = np.count_nonzero(new>=upper+1)/10000\n",
    "print('The power of the test is',power,'.')"
   ]
  },
  {
   "cell_type": "markdown",
   "metadata": {},
   "source": [
    "What do you think about this power? "
   ]
  },
  {
   "cell_type": "markdown",
   "metadata": {},
   "source": [
    "This power is relatively low, meaning that the risk of a type II error is rather high. A larger sample size will help increase the power of our test."
   ]
  },
  {
   "cell_type": "markdown",
   "metadata": {},
   "source": [
    "Repeat this power calculation, but assume Joe collects 500 balls instead of 100. Note that you will have to obtain a new critical value. What does this tell you about power and sample size?"
   ]
  },
  {
   "cell_type": "code",
   "execution_count": 9,
   "metadata": {},
   "outputs": [],
   "source": [
    "samps = stats.multinomial.rvs(500,[.3,.3,.2,.2],size=10000)\n",
    "samp_abs = abs(samps-make_array(125,125,125.,125))\n",
    "new = np.arange(10000)\n",
    "for i in np.arange(10000):\n",
    "    new[i]=samp_abs[i][0]+samp_abs[i][1]+samp_abs[i][2]+samp_abs[i][3]"
   ]
  },
  {
   "cell_type": "code",
   "execution_count": 10,
   "metadata": {},
   "outputs": [
    {
     "data": {
      "image/png": "[encoded data removed]",
      "text/plain": [
       "<Figure size 432x288 with 1 Axes>"
      ]
     },
     "metadata": {},
     "output_type": "display_data"
    }
   ],
   "source": [
    "plt.hist(new)\n",
    "plt.show()"
   ]
  },
  {
   "cell_type": "code",
   "execution_count": 11,
   "metadata": {},
   "outputs": [],
   "source": [
    "upper = percentile(95,new)"
   ]
  },
  {
   "cell_type": "code",
   "execution_count": 12,
   "metadata": {},
   "outputs": [
    {
     "name": "stdout",
     "output_type": "stream",
     "text": [
      "The new power is  0.0473 .\n"
     ]
    }
   ],
   "source": [
    "power = np.count_nonzero(new>=upper+1)/10000\n",
    "print('The new power is ',power,'.')"
   ]
  },
  {
   "cell_type": "markdown",
   "metadata": {},
   "source": [
    "As shown by the difference in over .3 between the powers of the two calculations, an increased sample size does wonders for the power of a test. To increase the power of a test, increase the sample size."
   ]
  },
  {
   "cell_type": "markdown",
   "metadata": {},
   "source": [
    "..."
   ]
  }
 ],
 "metadata": {
  "kernelspec": {
   "display_name": "Python 3",
   "language": "python",
   "name": "python3"
  },
  "language_info": {
   "codemirror_mode": {
    "name": "ipython",
    "version": 3
   },
   "file_extension": ".py",
   "mimetype": "text/x-python",
   "name": "python",
   "nbconvert_exporter": "python",
   "pygments_lexer": "ipython3",
   "version": "3.6.5"
  }
 },
 "nbformat": 4,
 "nbformat_minor": 2
}
